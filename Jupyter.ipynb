{
 "cells": [
  {
   "cell_type": "code",
   "execution_count": 4,
   "id": "92fc6ff4-eaae-4a3c-b8c1-dee4837af95b",
   "metadata": {},
   "outputs": [
    {
     "name": "stdout",
     "output_type": "stream",
     "text": [
      "Diabetes Detection Accuracy: 0.69\n",
      "Diabetes Type Classification Accuracy: 0.87\n",
      "Please enter the following medical values:\n",
      "\n"
     ]
    },
    {
     "name": "stdin",
     "output_type": "stream",
     "text": [
      "Pregnancies:  2\n",
      "Glucose Level:  180\n",
      "Blood Pressure:  80\n",
      "Skin Thickness:  29\n",
      "Insulin Level:  102\n",
      "BMI:  29\n",
      "Diabetes Pedigree Function (DPF):  0.3\n",
      "Age:  24\n"
     ]
    },
    {
     "name": "stdout",
     "output_type": "stream",
     "text": [
      "\n",
      "Result: You HAVE diabetes — Type 2.\n"
     ]
    }
   ],
   "source": [
    "import pandas as pd\n",
    "import numpy as np\n",
    "from sklearn.model_selection import train_test_split\n",
    "from sklearn.preprocessing import StandardScaler\n",
    "from sklearn.neighbors import KNeighborsClassifier\n",
    "\n",
    "#Loading historical dataset\n",
    "url = \"https://raw.githubusercontent.com/plotly/datasets/master/diabetes.csv\"\n",
    "df = pd.read_csv(url)\n",
    "\n",
    "#Simulate diabetes type\n",
    "df['DiabetesType'] = df.apply(\n",
    "    lambda row: 1 if (row['Age'] < 30 and row['Insulin'] < 100 and row['Outcome'] == 1) else (\n",
    "        2 if row['Outcome'] == 1 else 0), axis=1\n",
    ")\n",
    "\n",
    "#Feature preparation\n",
    "X = df.drop(['Outcome', 'DiabetesType'], axis=1)\n",
    "y_diabetes = df['Outcome']\n",
    "\n",
    "#Scaling\n",
    "scaler = StandardScaler()\n",
    "X_scaled = scaler.fit_transform(X)\n",
    "\n",
    "#Training KNN for diabetes detection\n",
    "X_train_d, X_test_d, y_train_d, y_test_d = train_test_split(X_scaled, y_diabetes, test_size=0.2, random_state=42)\n",
    "knn_diabetes = KNeighborsClassifier(n_neighbors=5)\n",
    "knn_diabetes.fit(X_train_d, y_train_d)\n",
    "\n",
    "#Training KNN for diabetes type\n",
    "df_diabetic = df[df['Outcome'] == 1]\n",
    "X_type = df_diabetic.drop(['Outcome', 'DiabetesType'], axis=1)\n",
    "y_type = df_diabetic['DiabetesType']\n",
    "X_type_scaled = scaler.transform(X_type)\n",
    "X_train_t, X_test_t, y_train_t, y_test_t = train_test_split(X_type_scaled, y_type, test_size=0.2, random_state=42)\n",
    "knn_type = KNeighborsClassifier(n_neighbors=3)\n",
    "knn_type.fit(X_train_t, y_train_t)\n",
    "\n",
    "#Accuracy scores\n",
    "accuracy_diabetes = knn_diabetes.score(X_test_d, y_test_d)\n",
    "accuracy_type = knn_type.score(X_test_t, y_test_t)\n",
    "print(f\"Diabetes Detection Accuracy: {accuracy_diabetes:.2f}\")\n",
    "print(f\"Diabetes Type Classification Accuracy: {accuracy_type:.2f}\")\n",
    "\n",
    "#Input from user\n",
    "def get_user_input():\n",
    "    print(\"Please enter the following medical values:\\n\")\n",
    "    try:\n",
    "        inputs = [\n",
    "            float(input(\"Pregnancies: \")),\n",
    "            float(input(\"Glucose Level: \")),\n",
    "            float(input(\"Blood Pressure: \")),\n",
    "            float(input(\"Skin Thickness: \")),\n",
    "            float(input(\"Insulin Level: \")),\n",
    "            float(input(\"BMI: \")),\n",
    "            float(input(\"Diabetes Pedigree Function (DPF): \")),\n",
    "            float(input(\"Age: \"))\n",
    "        ]\n",
    "        return inputs\n",
    "    except ValueError:\n",
    "        print(\"Invalid input: Please enter only numeric values.\")\n",
    "        return None\n",
    "\n",
    "#Full classification logic\n",
    "def classify_patient(patient_input):\n",
    "    patient_df = pd.DataFrame([patient_input], columns=X.columns)\n",
    "    patient_scaled = scaler.transform(patient_df)\n",
    "    #Step 1:Diabetes check\n",
    "    is_diabetic = knn_diabetes.predict(patient_scaled)[0]\n",
    "    if is_diabetic == 0:\n",
    "        return \"You are NOT diabetic.\"\n",
    "    #Step 2:Diabetes type\n",
    "    diabetes_type = knn_type.predict(patient_scaled)[0]\n",
    "    if diabetes_type == 1:\n",
    "        return \"You HAVE diabetes — Type 1.\"\n",
    "    elif diabetes_type == 2:\n",
    "        return \"You HAVE diabetes — Type 2.\"\n",
    "    else:\n",
    "        return \"You have diabetes but type classification is uncertain.\"\n",
    "\n",
    "#Run the program\n",
    "if __name__ == \"__main__\":\n",
    "    user_input = get_user_input()\n",
    "    if user_input:\n",
    "        result = classify_patient(user_input)\n",
    "        print(\"\\nResult:\", result)"
   ]
  },
  {
   "cell_type": "code",
   "execution_count": null,
   "id": "f6977edb-15a4-49b7-bea3-f3eeb2ffcca3",
   "metadata": {},
   "outputs": [],
   "source": []
  }
 ],
 "metadata": {
  "kernelspec": {
   "display_name": "Python 3 (ipykernel)",
   "language": "python",
   "name": "python3"
  },
  "language_info": {
   "codemirror_mode": {
    "name": "ipython",
    "version": 3
   },
   "file_extension": ".py",
   "mimetype": "text/x-python",
   "name": "python",
   "nbconvert_exporter": "python",
   "pygments_lexer": "ipython3",
   "version": "3.12.7"
  }
 },
 "nbformat": 4,
 "nbformat_minor": 5
}
